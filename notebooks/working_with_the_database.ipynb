{
 "cells": [
  {
   "cell_type": "code",
   "execution_count": null,
   "id": "5b0f71b268bba3a5",
   "metadata": {
    "ExecuteTime": {
     "end_time": "2024-12-14T11:34:37.840862Z",
     "start_time": "2024-12-14T11:34:37.419146Z"
    }
   },
   "outputs": [],
   "source": [
    "\"\"\"\n",
    "Working with the database.\n",
    "\n",
    "This notebook show you how to fetch records from the database.\n",
    "The records loaded from spreadsheet rows or returned from the eBird API\n",
    "are split across five different models: Checklist, Location, Observer,\n",
    "Observation and Species, which saves a lot of space. However this means \n",
    "that database queries must join the tables to access all the fields. SQLite \n",
    "is extremely fast at doing so the overhead is minimal. The query examples \n",
    "in this notebook show you have to join the tables to return complete \n",
    "objects (Checklist, etc.) or just selected fields.\n",
    "\n",
    "\"\"\"\n",
    "from sqlalchemy import create_engine, select\n",
    "from sqlalchemy.orm import Session\n",
    "\n",
    "\n",
    "from ebird.notebooks import settings\n",
    "from ebird.notebooks.models import Checklist, Location, Observation, Observer, Species\n",
    "\n",
    "db_dir = settings.DATABASE_DIR\n",
    "db_name = \"api_checklists\"\n",
    "db_url = f\"sqlite+pysqlite:///{db_dir}/{db_name}.sqlite3\"\n",
    "\n",
    "engine = create_engine(db_url)"
   ]
  },
  {
   "cell_type": "code",
   "execution_count": null,
   "id": "4b6dc613e0c8ea64",
   "metadata": {
    "ExecuteTime": {
     "end_time": "2024-12-12T19:48:32.424546Z",
     "start_time": "2024-12-12T19:48:32.388212Z"
    }
   },
   "outputs": [],
   "source": [
    "# Load selected fields for each observation.\n",
    "with Session(engine) as session:\n",
    "    rows = session.execute(\n",
    "        select(Observation.count, Species.common_name, Checklist.date, Checklist.time, Checklist.identifier, Location.name, Observer.name)\n",
    "        .join(Observation.species)\n",
    "        .join(Observation.checklist)\n",
    "        .join(Observation.location)\n",
    "        .join(Observation.observer)\n",
    "        .order_by(Checklist.identifier)\n",
    "        .limit(10)\n",
    "    )\n",
    "    for row in rows:\n",
    "        print(row)"
   ]
  },
  {
   "cell_type": "code",
   "execution_count": null,
   "id": "e328beeaf1cff65d",
   "metadata": {
    "ExecuteTime": {
     "end_time": "2024-12-14T11:34:48.115825Z",
     "start_time": "2024-12-14T11:34:48.098095Z"
    }
   },
   "outputs": [],
   "source": [
    "# Load all the information on each checklist, returning the fields as objects. \n",
    "with Session(engine) as session:\n",
    "    rows = session.execute(\n",
    "        select(Checklist, Location, Observer)\n",
    "        .join(Location)\n",
    "        .join(Observer)\n",
    "        .limit(10)\n",
    "    )\n",
    "    for row in rows:\n",
    "        print(row.Checklist.identifier, row.Checklist.date, row.Checklist.time, row.Location.name, row.Observer.name)"
   ]
  }
 ],
 "metadata": {
  "kernelspec": {
   "display_name": "Python 3 (ipykernel)",
   "language": "python",
   "name": "python3"
  },
  "language_info": {
   "codemirror_mode": {
    "name": "ipython",
    "version": 3
   },
   "file_extension": ".py",
   "mimetype": "text/x-python",
   "name": "python",
   "nbconvert_exporter": "python",
   "pygments_lexer": "ipython3",
   "version": "3.12.6"
  }
 },
 "nbformat": 4,
 "nbformat_minor": 5
}
