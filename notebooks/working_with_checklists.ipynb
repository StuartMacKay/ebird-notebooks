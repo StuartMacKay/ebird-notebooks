{
 "cells": [
  {
   "cell_type": "code",
   "execution_count": null,
   "id": "92facb8b-96e8-442d-9f14-94d55c801a36",
   "metadata": {
    "ExecuteTime": {
     "end_time": "2024-12-18T07:17:27.451665Z",
     "start_time": "2024-12-18T07:17:27.443875Z"
    }
   },
   "outputs": [],
   "source": [
    "\"\"\"\n",
    "Working with checklists.\n",
    "\n",
    "This notebook show you how to fetch checklists from the database.\n",
    "\n",
    "The records loaded from spreadsheet rows or returned from the eBird API\n",
    "are saved across five different database tables: Checklist, Location, \n",
    "Observer, Observation and Species, which saves a lot of space, but to \n",
    "load all the fields for a checklist (not the observations) you need \n",
    "to join the tables back together. That's easy to do with SQLAlchemy, \n",
    "however eBird Notebooks also has a helper class, Checklists, which \n",
    "implements the most commonly used database queries. \n",
    "\n",
    "Each row fetched contains three objects: Checklist, Location, and \n",
    "Observation. You access the fields 'dot operator' used to access an \n",
    "object's methods or attributes. For example:\n",
    "\n",
    "    row.Checklist.date\n",
    "    row.Location.state\n",
    "    row.Observer.name\n",
    "\n",
    "This notebook loads the checklists from a random country into a database\n",
    "stored in memory - so there's no special setup. The each cell shows you \n",
    "how to use the Checklists class to fetch the records.\n",
    "\n",
    "For a full list of all the fields available, see the ebird.notebooks.models\n",
    "file in the 'src' directory of this project.\n",
    "\"\"\"\n",
    "\n",
    "import datetime as dt\n",
    "\n",
    "from faker import Faker\n",
    "from IPython.display import display, HTML\n",
    "from sqlalchemy import create_engine\n",
    "from sqlalchemy.orm import Session\n",
    "from sqlalchemy.pool import StaticPool\n",
    "\n",
    "from ebird.notebooks import models, settings, loaders\n",
    "from ebird.notebooks.readers import Checklists\n",
    "\n",
    "# Get the key for accessing the eBird API.\n",
    "api_key = settings.API_KEY\n",
    "\n",
    "# Create the database for the notebook in memory.\n",
    "# Normally you just pass the connection string (URL). The other arguments\n",
    "# are only needed because the database is stored in memory, They are not\n",
    "# needed when accessing a file or database server.\n",
    "engine = create_engine(\"sqlite:///\", connect_args={'check_same_thread':False}, poolclass=StaticPool)"
   ]
  },
  {
   "cell_type": "code",
   "execution_count": null,
   "id": "05d9e556-c65f-4abd-82fa-d9c1b023f3db",
   "metadata": {
    "ExecuteTime": {
     "end_time": "2024-12-18T07:17:27.534839Z",
     "start_time": "2024-12-18T07:17:27.519573Z"
    }
   },
   "outputs": [],
   "source": [
    "# Create the database tables.\n",
    "models.Base.metadata.create_all(engine)"
   ]
  },
  {
   "cell_type": "code",
   "execution_count": null,
   "id": "688434f6f9b7ba57",
   "metadata": {
    "ExecuteTime": {
     "end_time": "2024-12-18T07:17:34.756931Z",
     "start_time": "2024-12-18T07:17:27.561689Z"
    }
   },
   "outputs": [],
   "source": [
    "# The eBird API returns only the species code, e.g. \"horlar1\", so\n",
    "# we need to populate the species table with the complete taxonomy.\n",
    "with Session(engine) as session:\n",
    "    loader = loaders.SpeciesLoader(api_key, session)\n",
    "    loader.load()"
   ]
  },
  {
   "cell_type": "code",
   "execution_count": null,
   "id": "5c5c63dc-e1c8-4274-8f75-a3e60da098c0",
   "metadata": {
    "ExecuteTime": {
     "end_time": "2024-12-18T07:17:42.238318Z",
     "start_time": "2024-12-18T07:17:34.769042Z"
    }
   },
   "outputs": [],
   "source": [
    "# Select a country at random.\n",
    "country_code = Faker().country_code()\n",
    "\n",
    "# Load the 10 most recent checklists from the eBird API.\n",
    "with Session(engine) as session:\n",
    "    loader = loaders.APILoader(api_key, session)\n",
    "    loader.load(country_code, max_results=10)"
   ]
  },
  {
   "cell_type": "code",
   "execution_count": null,
   "id": "4b6dc613e0c8ea64",
   "metadata": {
    "ExecuteTime": {
     "end_time": "2024-12-18T07:17:42.289879Z",
     "start_time": "2024-12-18T07:17:42.270042Z"
    }
   },
   "outputs": [],
   "source": [
    "# Get the Location from the most recent Checklist to get some values\n",
    "# for the example code in the following cells.\n",
    "\n",
    "with Session(engine) as session:\n",
    "    latest = Checklists(session).latest()\n",
    "\n",
    "# (Ab)use the walrus operator, so the code is compact.\n",
    "print(\"Country: \", country := latest.Location.country)\n",
    "print(\"Country code: \", country_code := latest.Location.country_code)\n",
    "print(\"State: \", state := latest.Location.state)\n",
    "print(\"State code: \", state_code := latest.Location.state_code)\n",
    "print(\"County: \", county := latest.Location.county)\n",
    "print(\"County code: \", county_code := latest.Location.county_code)\n",
    "\n",
    "# More checklists should have been submitted yesterday\n",
    "date = latest.Checklist.date - dt.timedelta(days=1)"
   ]
  },
  {
   "cell_type": "code",
   "execution_count": null,
   "id": "7d41615f-e28c-422c-a422-c9c598c997c6",
   "metadata": {
    "ExecuteTime": {
     "end_time": "2024-12-18T07:17:42.327175Z",
     "start_time": "2024-12-18T07:17:42.311374Z"
    }
   },
   "outputs": [],
   "source": [
    "# Display the observations in a table\n",
    "\n",
    "header_row = '''\n",
    "  <tr>\n",
    "    <th style=\"text-align: left\">Identifier</th>\n",
    "    <th style=\"text-align: left\">Date</th>\n",
    "    <th style=\"text-align: left\">Time</th>\n",
    "    <th style=\"text-align: left\">Location</th>\n",
    "  </tr>\n",
    "'''\n",
    "\n",
    "body_row = '''\n",
    "  <tr>\n",
    "    <td style=\"text-align: left\">{}</td>\n",
    "    <td style=\"text-align: left\">{}</td>\n",
    "    <td style=\"text-align: left\">{}</td>\n",
    "    <td style=\"text-align: left\">{}</td>\n",
    "  </tr>\n",
    "'''    \n",
    "\n",
    "def show_table(rows, limit=None):\n",
    "    if limit:\n",
    "        rows = list(rows)[:limit]\n",
    "\n",
    "    data = [\n",
    "        [\n",
    "            row.Checklist.identifier,\n",
    "            row.Checklist.date,\n",
    "            row.Checklist.time,\n",
    "            \"{}, {}, {}\".format(row.Location.name, row.Location.state, row.Location.country)\n",
    "        ] for row in rows\n",
    "    ]\n",
    "\n",
    "    body = [body_row.format(*row) for row in data]\n",
    "    table = \"<table><thead>{}</thead><tbody>{}</tbody></table>\".format(header_row, \"\".join(body))\n",
    "    \n",
    "    return display(HTML(table))"
   ]
  },
  {
   "cell_type": "code",
   "execution_count": null,
   "id": "7cc2d78f-aa75-48b2-b1fc-8836347a1eed",
   "metadata": {
    "ExecuteTime": {
     "end_time": "2024-12-18T07:17:42.327175Z",
     "start_time": "2024-12-18T07:17:42.311374Z"
    }
   },
   "outputs": [],
   "source": [
    "# Fetch every checklist.\n",
    "with Session(engine) as session:\n",
    "    rows = Checklists(session).fetch()\n",
    "    table = show_table(rows)\n",
    "\n",
    "table"
   ]
  },
  {
   "cell_type": "code",
   "execution_count": null,
   "id": "dbfe9d457ed83462",
   "metadata": {
    "ExecuteTime": {
     "end_time": "2024-12-18T07:17:42.401564Z",
     "start_time": "2024-12-18T07:17:42.390513Z"
    }
   },
   "outputs": [],
   "source": [
    "# Count the number of checklists.\n",
    "with Session(engine) as session:\n",
    "    count = Checklists(session).for_year(date.year).count()\n",
    "\n",
    "    print(\"Checklists submitted in %d: \" % date.year, count)"
   ]
  },
  {
   "cell_type": "code",
   "execution_count": null,
   "id": "dddb868f753041f8",
   "metadata": {
    "ExecuteTime": {
     "end_time": "2024-12-18T07:17:42.462285Z",
     "start_time": "2024-12-18T07:17:42.458137Z"
    }
   },
   "outputs": [],
   "source": [
    "# Fetch the checklists for a given country."
   ]
  },
  {
   "cell_type": "code",
   "execution_count": null,
   "id": "b63e968122909b75",
   "metadata": {
    "ExecuteTime": {
     "end_time": "2024-12-18T07:17:42.528855Z",
     "start_time": "2024-12-18T07:17:42.513839Z"
    }
   },
   "outputs": [],
   "source": [
    "# Using the name of the country.\n",
    "with Session(engine) as session:\n",
    "    rows = Checklists(session).for_country(country).fetch()\n",
    "    table = show_table(rows, limit=5)\n",
    "\n",
    "table"
   ]
  },
  {
   "cell_type": "code",
   "execution_count": null,
   "id": "103dcb6f12f36f41",
   "metadata": {
    "ExecuteTime": {
     "end_time": "2024-12-18T07:17:42.591542Z",
     "start_time": "2024-12-18T07:17:42.577269Z"
    }
   },
   "outputs": [],
   "source": [
    "# Or using the country code.\n",
    "with Session(engine) as session:\n",
    "    rows = Checklists(session).for_country(country_code).fetch()\n",
    "    table = show_table(rows, limit=5)\n",
    "\n",
    "table"
   ]
  },
  {
   "cell_type": "code",
   "execution_count": null,
   "id": "d62d4391b29b59cb",
   "metadata": {
    "ExecuteTime": {
     "end_time": "2024-12-18T07:17:42.663342Z",
     "start_time": "2024-12-18T07:17:42.657789Z"
    }
   },
   "outputs": [],
   "source": [
    "# Fetch the checklists for a given state (subnational1 area)."
   ]
  },
  {
   "cell_type": "code",
   "execution_count": null,
   "id": "46a989c2c5742fc",
   "metadata": {
    "ExecuteTime": {
     "end_time": "2024-12-18T07:17:42.718122Z",
     "start_time": "2024-12-18T07:17:42.702391Z"
    }
   },
   "outputs": [],
   "source": [
    "# Using the name of the state.\n",
    "with Session(engine) as session:\n",
    "    rows = Checklists(session).for_state(state).fetch()\n",
    "    table = show_table(rows, limit=5)\n",
    "\n",
    "table"
   ]
  },
  {
   "cell_type": "code",
   "execution_count": null,
   "id": "e4f920dfd1f0143f",
   "metadata": {
    "ExecuteTime": {
     "end_time": "2024-12-18T07:17:42.777398Z",
     "start_time": "2024-12-18T07:17:42.763317Z"
    }
   },
   "outputs": [],
   "source": [
    "# Or using the code for the state.\n",
    "with Session(engine) as session:\n",
    "    rows = Checklists(session).for_state(state_code).fetch()\n",
    "    table = show_table(rows, limit=5)\n",
    "\n",
    "table"
   ]
  },
  {
   "cell_type": "code",
   "execution_count": null,
   "id": "8cda8ca12ff8b283",
   "metadata": {
    "ExecuteTime": {
     "end_time": "2024-12-18T07:17:42.832524Z",
     "start_time": "2024-12-18T07:17:42.826360Z"
    }
   },
   "outputs": [],
   "source": [
    "# Fetch the checklists for a given region.\n",
    "# This is just an alias for fetching checklists by state."
   ]
  },
  {
   "cell_type": "code",
   "execution_count": null,
   "id": "2f5c7291282f593f",
   "metadata": {
    "ExecuteTime": {
     "end_time": "2024-12-18T07:17:42.889911Z",
     "start_time": "2024-12-18T07:17:42.880307Z"
    }
   },
   "outputs": [],
   "source": [
    "# Using the name of the region\n",
    "with Session(engine) as session:\n",
    "    rows = Checklists(session).for_region(state).fetch()\n",
    "    table = show_table(rows, limit=5)\n",
    "\n",
    "table"
   ]
  },
  {
   "cell_type": "code",
   "execution_count": null,
   "id": "1deccdf725ed6abf",
   "metadata": {
    "ExecuteTime": {
     "end_time": "2024-12-18T07:17:42.959665Z",
     "start_time": "2024-12-18T07:17:42.945957Z"
    }
   },
   "outputs": [],
   "source": [
    "# Or using the code for the region.\n",
    "with Session(engine) as session:\n",
    "    rows = Checklists(session).for_region(state_code).fetch()\n",
    "    table = show_table(rows, limit=5)\n",
    "\n",
    "table"
   ]
  },
  {
   "cell_type": "code",
   "execution_count": null,
   "id": "a424e2203a374b7a",
   "metadata": {
    "ExecuteTime": {
     "end_time": "2024-12-18T07:17:43.008482Z",
     "start_time": "2024-12-18T07:17:43.004090Z"
    }
   },
   "outputs": [],
   "source": [
    "# Fetch the checklists for a given county."
   ]
  },
  {
   "cell_type": "code",
   "execution_count": null,
   "id": "e36e0c3cf2f485da",
   "metadata": {
    "ExecuteTime": {
     "end_time": "2024-12-18T07:17:43.076469Z",
     "start_time": "2024-12-18T07:17:43.061306Z"
    }
   },
   "outputs": [],
   "source": [
    "# Using the name of the county\n",
    "with Session(engine) as session:\n",
    "    rows = Checklists(session).for_county(county).fetch()\n",
    "    table = show_table(rows, limit=5)\n",
    "\n",
    "table"
   ]
  },
  {
   "cell_type": "code",
   "execution_count": null,
   "id": "beda56ab4b03a741",
   "metadata": {
    "ExecuteTime": {
     "end_time": "2024-12-18T07:17:43.135408Z",
     "start_time": "2024-12-18T07:17:43.122625Z"
    }
   },
   "outputs": [],
   "source": [
    "# Or using the code for the county.\n",
    "with Session(engine) as session:\n",
    "    rows = Checklists(session).for_county(county_code).fetch()\n",
    "    table = show_table(rows)\n",
    "\n",
    "table"
   ]
  },
  {
   "cell_type": "code",
   "execution_count": null,
   "id": "622c477eaf8bd039",
   "metadata": {
    "ExecuteTime": {
     "end_time": "2024-12-18T07:17:43.195273Z",
     "start_time": "2024-12-18T07:17:43.178017Z"
    }
   },
   "outputs": [],
   "source": [
    "# Fetch the checklists for a given year.\n",
    "with Session(engine) as session:\n",
    "    rows = Checklists(session).for_year(date.year).fetch()\n",
    "    table = show_table(rows, limit=5)\n",
    "\n",
    "table"
   ]
  },
  {
   "cell_type": "code",
   "execution_count": null,
   "id": "2c369b55f0525aa6",
   "metadata": {
    "ExecuteTime": {
     "end_time": "2024-12-18T07:17:43.251132Z",
     "start_time": "2024-12-18T07:17:43.241219Z"
    }
   },
   "outputs": [],
   "source": [
    "# Fetch the checklists for a given month.\n",
    "with Session(engine) as session:\n",
    "    rows = Checklists(session).for_month(date.year, date.month).fetch()\n",
    "    table = show_table(rows, limit=5)\n",
    "\n",
    "table"
   ]
  },
  {
   "cell_type": "code",
   "execution_count": null,
   "id": "3aea5d71928d655f",
   "metadata": {
    "ExecuteTime": {
     "end_time": "2024-12-18T07:17:43.312993Z",
     "start_time": "2024-12-18T07:17:43.298101Z"
    }
   },
   "outputs": [],
   "source": [
    "# Fetch the checklists for a given day.\n",
    "with Session(engine) as session:\n",
    "    rows = Checklists(session).for_day(date.year, date.month, date.day).fetch()\n",
    "    table = show_table(rows, limit=5)\n",
    "\n",
    "table"
   ]
  },
  {
   "cell_type": "code",
   "execution_count": null,
   "id": "1559eee896abcdc3",
   "metadata": {
    "ExecuteTime": {
     "end_time": "2024-12-18T07:17:43.368478Z",
     "start_time": "2024-12-18T07:17:43.357397Z"
    }
   },
   "outputs": [],
   "source": [
    "# Fetch the checklists for a given date.\n",
    "with Session(engine) as session:\n",
    "    rows = Checklists(session).for_date(date).fetch()\n",
    "    table = show_table(rows, limit=5)\n",
    "\n",
    "table"
   ]
  }
 ],
 "metadata": {
  "kernelspec": {
   "display_name": "Python 3 (ipykernel)",
   "language": "python",
   "name": "python3"
  },
  "language_info": {
   "codemirror_mode": {
    "name": "ipython",
    "version": 3
   },
   "file_extension": ".py",
   "mimetype": "text/x-python",
   "name": "python",
   "nbconvert_exporter": "python",
   "pygments_lexer": "ipython3",
   "version": "3.12.6"
  }
 },
 "nbformat": 4,
 "nbformat_minor": 5
}
