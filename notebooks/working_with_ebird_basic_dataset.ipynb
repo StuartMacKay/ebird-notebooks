{
 "cells": [
  {
   "cell_type": "code",
   "execution_count": null,
   "id": "0b1a34e0-8554-4510-93e1-135f5a5a8335",
   "metadata": {
    "ExecuteTime": {
     "end_time": "2024-12-09T19:09:58.122840Z",
     "start_time": "2024-12-09T19:09:57.810418Z"
    }
   },
   "outputs": [],
   "source": [
    "\"\"\"\n",
    "Working with the eBird Basic Dataset\n",
    "\n",
    "This notebook show you how to create a database and load observations\n",
    "from a cvs file containing records from the eBird Basic Dataset v1.14.\n",
    "\n",
    "https://science.ebird.org/en/use-ebird-data/download-ebird-data-products\n",
    "http://ebird.org/ebird/data/download\n",
    "\n",
    "\"\"\"\n",
    "import os\n",
    "\n",
    "from sqlalchemy import create_engine\n",
    "\n",
    "from main import settings\n",
    "from main.db import models, loaders\n",
    "\n",
    "db_dir = settings.DATABASE_DIR\n",
    "db_name = \"basic_dataset\"\n",
    "db_url = f\"sqlite+pysqlite:///{db_dir}/{db_name}.sqlite3\"\n",
    "\n",
    "csv_file = os.path.join(settings.DOWNLOAD_DIR, \"ebird_basic_dataset_sample.csv\")"
   ]
  },
  {
   "cell_type": "code",
   "execution_count": null,
   "id": "eefd2cecaf9ed4db",
   "metadata": {
    "ExecuteTime": {
     "end_time": "2024-12-09T19:10:00.857317Z",
     "start_time": "2024-12-09T19:10:00.776291Z"
    }
   },
   "outputs": [],
   "source": [
    "# Create the database.\n",
    "engine = create_engine(db_url)\n",
    "models.Base.metadata.create_all(engine)"
   ]
  },
  {
   "cell_type": "code",
   "execution_count": null,
   "id": "a30ca1cb-5791-46ef-bf6c-f5a7e90dc889",
   "metadata": {
    "ExecuteTime": {
     "end_time": "2024-12-09T19:10:22.524486Z",
     "start_time": "2024-12-09T19:10:04.029560Z"
    }
   },
   "outputs": [],
   "source": [
    "# Load the records from a csv file.\n",
    "loader = loaders.BasicDatasetLoader(db_url)\n",
    "loader.load(csv_file)"
   ]
  }
 ],
 "metadata": {
  "kernelspec": {
   "display_name": "Python 3 (ipykernel)",
   "language": "python",
   "name": "python3"
  },
  "language_info": {
   "codemirror_mode": {
    "name": "ipython",
    "version": 3
   },
   "file_extension": ".py",
   "mimetype": "text/x-python",
   "name": "python",
   "nbconvert_exporter": "python",
   "pygments_lexer": "ipython3",
   "version": "3.12.6"
  }
 },
 "nbformat": 4,
 "nbformat_minor": 5
}
