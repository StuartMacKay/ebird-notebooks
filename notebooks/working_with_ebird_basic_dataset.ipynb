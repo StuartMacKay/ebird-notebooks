{
 "cells": [
  {
   "cell_type": "code",
   "execution_count": 1,
   "id": "0b1a34e0-8554-4510-93e1-135f5a5a8335",
   "metadata": {
    "ExecuteTime": {
     "end_time": "2024-11-20T20:07:55.382650Z",
     "start_time": "2024-11-20T20:07:55.090250Z"
    }
   },
   "outputs": [
    {
     "data": {
      "text/plain": [
       "True"
      ]
     },
     "execution_count": 1,
     "metadata": {},
     "output_type": "execute_result"
    }
   ],
   "source": [
    "\"\"\"\n",
    "Working with the eBird Basic Dataset\n",
    "\n",
    "This notebook show you how to create a database and load observations\n",
    "from a cvs file containing records from the eBird Basic Dataset v1.14.\n",
    "\n",
    "https://science.ebird.org/en/use-ebird-data/download-ebird-data-products\n",
    "http://ebird.org/ebird/data/download\n",
    "\n",
    "\"\"\"\n",
    "import os\n",
    "\n",
    "from sqlalchemy import create_engine\n",
    "\n",
    "from main import settings\n",
    "from main.db import models, loaders"
   ]
  },
  {
   "cell_type": "markdown",
   "id": "2cd242bfd899bdf5",
   "metadata": {},
   "source": ""
  },
  {
   "cell_type": "code",
   "execution_count": null,
   "id": "eefd2cecaf9ed4db",
   "metadata": {},
   "outputs": [],
   "source": [
    "# Create the database.\n",
    "engine = create_engine(settings.EBD_DATABASE_URL)\n",
    "models.Base.metadata.create_all(engine)"
   ]
  },
  {
   "cell_type": "code",
   "execution_count": 3,
   "id": "a30ca1cb-5791-46ef-bf6c-f5a7e90dc889",
   "metadata": {
    "ExecuteTime": {
     "end_time": "2024-11-19T20:10:40.337785Z",
     "start_time": "2024-11-19T20:10:29.726652Z"
    }
   },
   "outputs": [
    {
     "name": "stdout",
     "output_type": "stream",
     "text": [
      "Loading eBird Basic Dataset from /home/stuart/Development/ebird-notebooks/data/downloads/ebd.csv\n",
      ".......................................................................................................................................................................................................................................................................................................................................................................................................................................................................................................................................................................................................................................................................................................................................................................................................................................................................................................................................................................................................................................................................................................................................................................................................................................................................................................................................................................................................................................................\n",
      "Successfully loaded eBird Basic Dataset\n",
      "0 records added\n",
      "0 records updated\n",
      "1399 records unchanged\n",
      "1399 records in total\n"
     ]
    }
   ],
   "source": [
    "# Load the records from a csv file.\n",
    "loader = loaders.BasicDatasetLoader(settings.EBD_DATABASE_URL)\n",
    "loader.load(\n",
    "    os.path.join(settings.DATA_DIR, \"downloads\", \"ebird_basic_dataset_sample.csv\")\n",
    ")"
   ]
  }
 ],
 "metadata": {
  "kernelspec": {
   "display_name": "Python 3 (ipykernel)",
   "language": "python",
   "name": "python3"
  },
  "language_info": {
   "codemirror_mode": {
    "name": "ipython",
    "version": 3
   },
   "file_extension": ".py",
   "mimetype": "text/x-python",
   "name": "python",
   "nbconvert_exporter": "python",
   "pygments_lexer": "ipython3",
   "version": "3.12.6"
  }
 },
 "nbformat": 4,
 "nbformat_minor": 5
}
