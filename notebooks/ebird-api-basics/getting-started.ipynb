{
 "cells": [
  {
   "cell_type": "code",
   "id": "0b1a34e0-8554-4510-93e1-135f5a5a8335",
   "metadata": {
    "editable": true,
    "slideshow": {
     "slide_type": ""
    },
    "tags": []
   },
   "source": [
    "\"\"\"\n",
    "Getting Started.\n",
    "\n",
    "This notebook shows you the basic steps for loading data from the eBird API\n",
    "and displaying checklists and observations. It assumes you have completed\n",
    "the steps in the \"Getting Started\" section of the README, and you have an\n",
    "eBird API key.\n",
    "\n",
    "\"\"\"\n",
    "from django.conf import settings\n",
    "from django.template.loader import render_to_string\n",
    "\n",
    "from faker import Faker\n",
    "from IPython.display import display, HTML\n",
    "\n",
    "from ebird.api.requests import get_visits\n",
    "from ebird.api.data.loaders import APILoader\n",
    "from ebird.api.data.models import Checklist, Observation\n",
    "\n",
    "# Randomly choose a country to load checklists for.\n",
    "region = Faker().country_code()"
   ],
   "outputs": [],
   "execution_count": null
  },
  {
   "cell_type": "code",
   "id": "e513faef-f347-4b1a-99dc-746b504198db",
   "metadata": {},
   "source": [
    "# Load the most recent checklists.\n",
    "loader = APILoader(settings.EBIRD_API_KEY, locales=settings.EBIRD_API_LOCALES)\n",
    "\n",
    "# Normally you use the APILoader for this, however if the country\n",
    "# chosen at random is a big birding nation, then we're going to\n",
    "# overload the eBird servers with requests. This way is safer.\n",
    "# Get the visits from the API, the default number is 10.\n",
    "visits = get_visits(settings.EBIRD_API_KEY, region)\n",
    "\n",
    "for visit in visits:\n",
    "    loader.add_location(visit[\"loc\"])\n",
    "    loader.load_checklist(visit[\"subId\"])"
   ],
   "outputs": [],
   "execution_count": null
  },
  {
   "cell_type": "code",
   "id": "82a52e3e-d2e6-4c61-8000-3fc94b7613e3",
   "metadata": {},
   "source": [
    "# Show the 10 most recent checklists.\n",
    "checklists = Checklist.objects.filter(location__country__code=region)\n",
    "\n",
    "table = render_to_string(\"ebird-api-basics/getting-started/checklists.html\", {\"checklists\": checklists})\n",
    "display(HTML(table))"
   ],
   "outputs": [],
   "execution_count": null
  },
  {
   "cell_type": "code",
   "id": "cb32b332-036c-4606-8275-fb17df360705",
   "metadata": {},
   "source": [
    "# Show the highest count for each species seen\n",
    "# Rather than build a complex query to group the observations by species\n",
    "# and calculate the highest count, we cheat by using the {% ifchanged %}\n",
    "# tag in the template to display the observation each time the species\n",
    "# changes. Sorting by count descending means this record is the one where\n",
    "# the highest count was recorded.\n",
    "observations = Observation.objects.filter(location__country__code=region).order_by(\"species__taxon_order\", \"-count\")\n",
    "\n",
    "table = render_to_string(\"ebird-api-basics/getting-started/highest-counts.html\", {\"observations\": observations})\n",
    "display(HTML(table))"
   ],
   "outputs": [],
   "execution_count": null
  }
 ],
 "metadata": {
  "kernelspec": {
   "display_name": "Django Kernel",
   "language": "python",
   "name": "django_extensions"
  },
  "language_info": {
   "codemirror_mode": {
    "name": "ipython",
    "version": 3
   },
   "file_extension": ".py",
   "mimetype": "text/x-python",
   "name": "python",
   "nbconvert_exporter": "python",
   "pygments_lexer": "ipython3",
   "version": "3.12.6"
  }
 },
 "nbformat": 4,
 "nbformat_minor": 5
}
