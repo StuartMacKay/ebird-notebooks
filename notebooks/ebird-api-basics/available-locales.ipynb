{
 "cells": [
  {
   "cell_type": "code",
   "id": "0b1a34e0-8554-4510-93e1-135f5a5a8335",
   "metadata": {
    "editable": true,
    "slideshow": {
     "slide_type": ""
    },
    "tags": []
   },
   "source": [
    "\"\"\"\n",
    "Available Locales\n",
    "\n",
    "This notebook shows the complete list of locales supported by eBird.\n",
    "Locales let you display the common name and family name of each\n",
    "species in a local language.\n",
    "\n",
    "\"\"\"\n",
    "import json\n",
    "\n",
    "from config import settings\n",
    "\n",
    "import tabulate\n",
    "\n",
    "from ebird.api.requests import get_taxonomy_locales"
   ],
   "outputs": [],
   "execution_count": null
  },
  {
   "cell_type": "code",
   "id": "7a249b7f1ea0593",
   "metadata": {},
   "source": [
    "locales = get_taxonomy_locales(settings.EBIRD_API_KEY)\n",
    "print(json.dumps(locales, indent=2))"
   ],
   "outputs": [],
   "execution_count": null
  },
  {
   "metadata": {},
   "cell_type": "code",
   "source": [
    "# Display the list in table format\n",
    "headers = locales[0].keys()\n",
    "rows = [locale.values() for locale in locales]\n",
    "table = tabulate.tabulate(rows, headers=headers, tablefmt='html')\n",
    "table"
   ],
   "id": "b4166d7e-187e-47c3-a749-b0fd121946d3",
   "outputs": [],
   "execution_count": null
  }
 ],
 "metadata": {
  "kernelspec": {
   "display_name": "Django Kernel",
   "language": "python",
   "name": "django_extensions"
  },
  "language_info": {
   "codemirror_mode": {
    "name": "ipython",
    "version": 3
   },
   "file_extension": ".py",
   "mimetype": "text/x-python",
   "name": "python",
   "nbconvert_exporter": "python",
   "pygments_lexer": "ipython3",
   "version": "3.13.1"
  }
 },
 "nbformat": 4,
 "nbformat_minor": 5
}
