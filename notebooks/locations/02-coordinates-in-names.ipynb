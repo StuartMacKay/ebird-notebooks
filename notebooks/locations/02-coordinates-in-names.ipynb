{
 "cells": [
  {
   "cell_type": "markdown",
   "id": "46d0710d-31f9-4039-8942-ad3de2eabcac",
   "metadata": {
    "ExecuteTime": {
     "end_time": "2025-04-08T05:55:00.690907Z",
     "start_time": "2025-04-08T05:55:00.639660Z"
    }
   },
   "source": [
    "# Coordinates in Location Names\n",
    "> How can the latitude and longitude be removed from location names?"
   ]
  },
  {
   "cell_type": "markdown",
   "id": "5c12d0c4-bfc8-4059-9b87-aefa4325efed",
   "metadata": {
    "ExecuteTime": {
     "end_time": "2025-04-11T06:54:44.624692Z",
     "start_time": "2025-04-11T06:54:44.388719Z"
    }
   },
   "source": [
    "## Description\n",
    "\n",
    "[Long names, short names](01-long-names-short-names.ipynb) looked at the length of location\n",
    "names. One option to shorten the names is to remove the coordinates added to every private\n",
    "location. This notebook looks at what is needed to do that."
   ]
  },
  {
   "cell_type": "code",
   "execution_count": 19,
   "id": "5c9afda4-6dfa-49f4-b65c-35b44ac32142",
   "metadata": {
    "ExecuteTime": {
     "end_time": "2025-07-16T14:48:11.763160Z",
     "start_time": "2025-07-16T14:48:10.419512Z"
    }
   },
   "outputs": [],
   "source": [
    "from django.db.models.functions import Length\n",
    "\n",
    "from IPython.display import display, HTML\n",
    "\n",
    "import matplotlib.pyplot as plt\n",
    "import tabulate\n",
    "\n",
    "from ebird.api.data.models import Location"
   ]
  },
  {
   "cell_type": "code",
   "execution_count": 67,
   "id": "6e1a7266-0121-4685-b147-d82ce0e341b3",
   "metadata": {
    "ExecuteTime": {
     "end_time": "2025-07-16T14:48:07.397752Z",
     "start_time": "2025-07-16T14:48:07.113607Z"
    }
   },
   "outputs": [
    {
     "data": {
      "text/html": [
       "<table>\n",
       "<thead>\n",
       "<tr><th>Category      </th><th style=\"text-align: right;\">    n</th><th style=\"text-align: right;\">    %</th></tr>\n",
       "</thead>\n",
       "<tbody>\n",
       "<tr><td>Coordinates   </td><td style=\"text-align: right;\"> 9231</td><td style=\"text-align: right;\"> 50.2</td></tr>\n",
       "<tr><td>No Coordinates</td><td style=\"text-align: right;\"> 9166</td><td style=\"text-align: right;\"> 49.8</td></tr>\n",
       "<tr><td>Total         </td><td style=\"text-align: right;\">18397</td><td style=\"text-align: right;\">100  </td></tr>\n",
       "</tbody>\n",
       "</table>"
      ],
      "text/plain": [
       "'<table>\\n<thead>\\n<tr><th>Category      </th><th style=\"text-align: right;\">    n</th><th style=\"text-align: right;\">    %</th></tr>\\n</thead>\\n<tbody>\\n<tr><td>Coordinates   </td><td style=\"text-align: right;\"> 9231</td><td style=\"text-align: right;\"> 50.2</td></tr>\\n<tr><td>No Coordinates</td><td style=\"text-align: right;\"> 9166</td><td style=\"text-align: right;\"> 49.8</td></tr>\\n<tr><td>Total         </td><td style=\"text-align: right;\">18397</td><td style=\"text-align: right;\">100  </td></tr>\\n</tbody>\\n</table>'"
      ]
     },
     "execution_count": 67,
     "metadata": {},
     "output_type": "execute_result"
    }
   ],
   "source": [
    "# Location names, particularly private or one-time locations, end with the coordinates.\n",
    "\n",
    "latitude = r\"-?\\d{1,2}[.,]\\d{1,7}\"\n",
    "longitude = r\"[-\\u2212]?\\d{1,3}[.,]\\d{1,7}\"\n",
    "coordinates = r\"\\(?%s[,x] ?%s\\)?\" % (latitude, longitude)\n",
    "\n",
    "total = Location.objects.all().count()\n",
    "with_coords = Location.objects.filter(original__regex=coordinates)\n",
    "without_coords = Location.objects.exclude(original__regex=coordinates)\n",
    "\n",
    "labels = [\"Coordinates\", \"No Coordinates\", \"Total\"]\n",
    "values = [with_coords.count(), without_coords.count(), total]\n",
    "percentages = [round(value / total * 100, 1) for value in values]\n",
    "\n",
    "data = zip(labels, values, percentages)\n",
    "\n",
    "table = tabulate.tabulate(data, headers=[\"Category\", \"n\", \"%\"], tablefmt='html')\n",
    "table"
   ]
  },
  {
   "cell_type": "code",
   "execution_count": 68,
   "id": "cc623ebc-a01c-4d6a-8222-8a86bd4076c8",
   "metadata": {},
   "outputs": [
    {
     "name": "stdout",
     "output_type": "stream",
     "text": [
      "Count: 33\n",
      "\n",
      "10 Rua da Escola, Sobral de Monte Agraço, Lisboa, PT (39, -9,118)\n",
      "3 Cova da Moura, Monfortinho, Castelo Branco, PT (40, -6.877)\n",
      "CAC - NB50,60/P1 - Miradouro da Praia do Castelo\n",
      "EM635, Carregal do Sal, Viseu, PT (40,408, -8)\n",
      "Ponte Vasco da Gama, Setúbal, PT (38,732, -9)\n",
      "CAC - NB50,60/P12 - Várzea de Armação de Pêra\n",
      "Ponte Vasco da Gama, Setúbal, PT (38,732, -9)\n",
      "CAC - NB50,60/P7 - Escolas de Vale Pedras\n",
      "CAC - NB50,60/P19 - Caminho de Albandeira\n",
      "Pego Das Pias, Beja, PT (37.645, ‎-8.619)\n",
      "CAC - NB50,60/P15 - Vale de Alporchinhos\n",
      "CAC - NB50,60/P4 - Parque ETAR Albufeira\n",
      "Vale Da Lua, Beja, PT (37.709, ‎-8.491)\n",
      "CAC - NB50,60/P8 - Caminhos da Mouraria\n",
      "CAC - NB50,60/P13 - Lagoa dos Salgados\n",
      "CAC - NB50,60/P16 - Areias de Porches\n",
      "25 NM Sul Selvagem Pequena, -16.01387\n",
      "CAC - NB50,60/P6 - Desvio das Areias\n",
      "CAC - NB50,60/P2 - Pastoreio da Galé\n",
      "CAC - NB50,60/P17 - Colina de Lombos\n",
      "36º51.075'N, 08º52.410'W 2025-04-05\n",
      "36º48.719'N, 08º54.417'W 2025-04-07\n",
      "CAC - NB50,60/P11 - Areeiro de Pêra\n",
      "ER243, Portalegre, PT (39, -7,201)\n",
      "CAC - NB50,60/P18 - Vale del Rey\n",
      "CAC - NB50,60/P10 - Monte Juntos\n",
      "ER123, Beja, PT (37.691, -8)\n",
      "CAC - NB50,60/P5 - Corcovada\n",
      "ER123, Beja, PT (37,691, -8)\n",
      "CAC - NB50,60/P20 - Benagil\n",
      "CAC - NB50,60/P3 - Calvana\n",
      "CAC - NB50,60/P9 - Álamos\n",
      "CAC - NB50,60/P14 - Torre\n"
     ]
    }
   ],
   "source": [
    "# For the locations that did not match the regular expression for coordinates,\n",
    "# display the ones that contain a decimal number. Use this to test how effective \n",
    "# the coorinates regular expression is.\n",
    "\n",
    "locations = (\n",
    "    without_coords\n",
    "    .filter(original__regex=r\"\\d[.,]\\d{2,}\")\n",
    "    .annotate(length=Length('original'))\n",
    "    .order_by(\"-length\")\n",
    ")\n",
    "names = [location.original for location in locations]\n",
    "\n",
    "print(\"Count: %d\\n\" % locations.count())\n",
    "print(\"\\n\".join(names))"
   ]
  }
 ],
 "metadata": {
  "kernelspec": {
   "display_name": "Django Kernel",
   "language": "python",
   "name": "django_extensions"
  },
  "language_info": {
   "codemirror_mode": {
    "name": "ipython",
    "version": 3
   },
   "file_extension": ".py",
   "mimetype": "text/x-python",
   "name": "python",
   "nbconvert_exporter": "python",
   "pygments_lexer": "ipython3",
   "version": "3.12.6"
  }
 },
 "nbformat": 4,
 "nbformat_minor": 5
}
