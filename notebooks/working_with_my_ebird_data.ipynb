{
 "cells": [
  {
   "cell_type": "code",
   "execution_count": null,
   "id": "0b1a34e0-8554-4510-93e1-135f5a5a8335",
   "metadata": {
    "ExecuteTime": {
     "end_time": "2024-11-28T07:38:14.415918Z",
     "start_time": "2024-11-28T07:38:14.109591Z"
    }
   },
   "outputs": [],
   "source": [
    "\"\"\"\n",
    "Working with My eBird Data.\n",
    "\n",
    "This notebook show you how to create a database and load personal\n",
    "observations downloaded from eBird.\n",
    "\n",
    "\"\"\"\n",
    "from sqlalchemy import create_engine\n",
    "\n",
    "from ebird.notebooks import models, loaders, settings\n",
    "\n",
    "db_dir = settings.DATABASE_DIR\n",
    "db_name = \"my_data\"\n",
    "db_url = f\"sqlite+pysqlite:///{db_dir}/{db_name}.sqlite3\"\n",
    "\n",
    "csv_file = settings.DOWNLOAD_DIR.joinpath(\"MyEBirdData.csv\")\n",
    "\n",
    "# My eBird Data does not contain your name, so we need to add it.\n",
    "observer_name = \"Etta Lemon\""
   ]
  },
  {
   "cell_type": "code",
   "execution_count": null,
   "id": "bcc60d37d4fb488d",
   "metadata": {
    "ExecuteTime": {
     "end_time": "2024-11-28T07:38:29.264497Z",
     "start_time": "2024-11-28T07:38:29.207639Z"
    }
   },
   "outputs": [],
   "source": [
    "# Create the database.\n",
    "engine = create_engine(db_url)\n",
    "models.Base.metadata.create_all(engine)"
   ]
  },
  {
   "cell_type": "code",
   "execution_count": null,
   "id": "e513faef-f347-4b1a-99dc-746b504198db",
   "metadata": {
    "ExecuteTime": {
     "end_time": "2024-11-28T07:52:50.504644Z",
     "start_time": "2024-11-28T07:38:33.321181Z"
    }
   },
   "outputs": [],
   "source": [
    "# Load the records.\n",
    "loader = loaders.MyDataLoader(db_url)\n",
    "loader.load(csv_file, observer_name)"
   ]
  }
 ],
 "metadata": {
  "kernelspec": {
   "display_name": "Python 3 (ipykernel)",
   "language": "python",
   "name": "python3"
  },
  "language_info": {
   "codemirror_mode": {
    "name": "ipython",
    "version": 3
   },
   "file_extension": ".py",
   "mimetype": "text/x-python",
   "name": "python",
   "nbconvert_exporter": "python",
   "pygments_lexer": "ipython3",
   "version": "3.12.6"
  }
 },
 "nbformat": 4,
 "nbformat_minor": 5
}
