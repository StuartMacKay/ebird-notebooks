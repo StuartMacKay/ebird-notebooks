{
 "cells": [
  {
   "cell_type": "code",
   "execution_count": null,
   "id": "0b1a34e0-8554-4510-93e1-135f5a5a8335",
   "metadata": {
    "ExecuteTime": {
     "end_time": "2024-12-28T17:08:47.843468Z",
     "start_time": "2024-12-28T17:08:46.957669Z"
    },
    "editable": true,
    "slideshow": {
     "slide_type": ""
    },
    "tags": []
   },
   "outputs": [],
   "source": [
    "\"\"\"\n",
    "Notebook basics.\n",
    "\n",
    "This notebook shows you the basic steps for loading and displaying data\n",
    "from checklists and observations. It assumes you have completed he steps in\n",
    "the \"Getting Started\" section of the README, and you have an eBird API key.\n",
    "\"\"\"\n",
    "\n",
    "from django.conf import settings\n",
    "from django.template.loader import render_to_string\n",
    "\n",
    "from faker import Faker\n",
    "from IPython.display import display, HTML\n",
    "\n",
    "from ebird.checklists.loaders import APILoader, SpeciesLoader\n",
    "from ebird.checklists.models import Checklist, Observation\n",
    "\n",
    "# Randomly choose a country to load checklists for.\n",
    "region = Faker().country_code()"
   ]
  },
  {
   "cell_type": "code",
   "execution_count": null,
   "id": "20a1191ba0ee2062",
   "metadata": {},
   "outputs": [],
   "source": [
    "# Load the complete eBird taxonomy into the Species table\n",
    "loader = SpeciesLoader(settings.EBIRD_API_KEY)\n",
    "loader.load()"
   ]
  },
  {
   "cell_type": "code",
   "execution_count": null,
   "id": "e513faef-f347-4b1a-99dc-746b504198db",
   "metadata": {},
   "outputs": [],
   "source": [
    "# Load the ten most recent checklists from the eBird API.\n",
    "loader = APILoader(settings.EBIRD_API_KEY)\n",
    "loader.recent(region, limit=10)"
   ]
  },
  {
   "cell_type": "code",
   "execution_count": null,
   "id": "82a52e3e-d2e6-4c61-8000-3fc94b7613e3",
   "metadata": {},
   "outputs": [],
   "source": [
    "# Show all the checklists just loaded.\n",
    "checklists = Checklist.objects.filter(location__country_code=region)\n",
    "\n",
    "table = render_to_string(\"checklists.html\", {\"checklists\": checklists})\n",
    "display(HTML(table))"
   ]
  },
  {
   "cell_type": "code",
   "execution_count": null,
   "id": "cb32b332-036c-4606-8275-fb17df360705",
   "metadata": {},
   "outputs": [],
   "source": [
    "# Show the highest count for each species seen\n",
    "# Rather than build a complex query to group the observations by species\n",
    "# and calculate the highest count, we cheat by using the {% ifchanged %}\n",
    "# tag in the template to display the observation each time the species\n",
    "# changes. Sorting by count descending means this record is the one where\n",
    "# the highest count was recorded.\n",
    "observations = Observation.objects.filter(location__country_code=region).order_by(\"species__taxon_order\", \"-count\")\n",
    "\n",
    "table = render_to_string(\"highest-counts.html\", {\"observations\": observations})\n",
    "display(HTML(table))"
   ]
  }
 ],
 "metadata": {
  "kernelspec": {
   "display_name": "Django Kernel",
   "language": "python",
   "name": "django_extensions"
  },
  "language_info": {
   "codemirror_mode": {
    "name": "ipython",
    "version": 3
   },
   "file_extension": ".py",
   "mimetype": "text/x-python",
   "name": "python",
   "nbconvert_exporter": "python",
   "pygments_lexer": "ipython3",
   "version": "3.12.6"
  }
 },
 "nbformat": 4,
 "nbformat_minor": 5
}
