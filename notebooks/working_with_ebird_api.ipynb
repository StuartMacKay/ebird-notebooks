{
 "cells": [
  {
   "cell_type": "code",
   "execution_count": null,
   "id": "0b1a34e0-8554-4510-93e1-135f5a5a8335",
   "metadata": {
    "ExecuteTime": {
     "end_time": "2024-12-09T19:40:58.982678Z",
     "start_time": "2024-12-09T19:40:58.707225Z"
    }
   },
   "outputs": [],
   "source": [
    "\"\"\"\n",
    "Working with the eBird API.\n",
    "\n",
    "This notebook show you how to create a database and load observations\n",
    "from the eBird API v2.0.\n",
    "\n",
    "You will need to sign up for a key to access the eBird API.\n",
    "https://ebird.org/api/keygen\n",
    "\n",
    "You will also need to copy the example file .env.example to .env,\n",
    "and add your API key.\n",
    "\"\"\"\n",
    "\n",
    "from sqlalchemy import create_engine\n",
    "from sqlalchemy.orm import Session\n",
    "\n",
    "from ebird.notebooks import models, loaders, settings\n",
    "\n",
    "# The URL for accessing the database\n",
    "db_url = settings.DB_URL\n",
    "# The key needed to access the API.\n",
    "api_key = settings.API_KEY"
   ]
  },
  {
   "cell_type": "code",
   "execution_count": null,
   "id": "bf173846d4e0be80",
   "metadata": {
    "ExecuteTime": {
     "end_time": "2024-12-09T19:41:01.343718Z",
     "start_time": "2024-12-09T19:41:01.280169Z"
    }
   },
   "outputs": [],
   "source": [
    "# Create and initialize the database.\n",
    "engine = create_engine(db_url)\n",
    "models.Base.metadata.create_all(engine)"
   ]
  },
  {
   "cell_type": "code",
   "execution_count": null,
   "id": "bcc60d37d4fb488d",
   "metadata": {
    "ExecuteTime": {
     "end_time": "2024-12-09T19:41:12.572260Z",
     "start_time": "2024-12-09T19:41:03.693432Z"
    }
   },
   "outputs": [],
   "source": [
    "# The eBird API returns only the species code, e.g. \"horlar1\", so\n",
    "# we need to populate the species table with the complete taxonomy.\n",
    "with Session(engine) as session:\n",
    "    loader = loaders.SpeciesLoader(api_key, session)\n",
    "    loader.load()"
   ]
  },
  {
   "cell_type": "code",
   "execution_count": null,
   "id": "e513faef-f347-4b1a-99dc-746b504198db",
   "metadata": {
    "ExecuteTime": {
     "end_time": "2024-12-09T18:28:11.111037Z",
     "start_time": "2024-12-09T18:28:08.336650Z"
    }
   },
   "outputs": [],
   "source": [
    "# Load the observations from the eBird API.\n",
    "with Session(engine) as session:\n",
    "    loader = loaders.APILoader(api_key, session)\n",
    "    \n",
    "    for region in settings.API_REGIONS:\n",
    "        for date in settings.API_PAST_DATES:\n",
    "            loader.load(region, date)"
   ]
  },
  {
   "cell_type": "code",
   "execution_count": null,
   "id": "b2fac6a86c35121d",
   "metadata": {
    "ExecuteTime": {
     "end_time": "2024-11-21T22:13:19.502008Z",
     "start_time": "2024-11-21T22:13:19.475868Z"
    }
   },
   "outputs": [],
   "source": [
    "# If you are running Linux or MacOS you can schedule the loading of\n",
    "# checklists from the eBird API using cron. Here we get cron to run\n",
    "# the load script at 9am, every day. Note: your crontab will be updated\n",
    "# every time you execute this cell.\n",
    "\n",
    "from crontab import CronTab  # noqa : E402\n",
    "from pathlib import Path  # noqa : E402\n",
    "\n",
    "python = Path(settings.ROOT_DIR, \".venv\", \"bin\", \"python\")\n",
    "script = Path(settings.ROOT_DIR, \"scripts\", \"load.py\")\n",
    "\n",
    "with CronTab(user=True) as cron:\n",
    "    job = cron.new(command=f\"{python} {script}\")\n",
    "    job.hour.on(9)"
   ]
  }
 ],
 "metadata": {
  "kernelspec": {
   "display_name": "Python 3 (ipykernel)",
   "language": "python",
   "name": "python3"
  },
  "language_info": {
   "codemirror_mode": {
    "name": "ipython",
    "version": 3
   },
   "file_extension": ".py",
   "mimetype": "text/x-python",
   "name": "python",
   "nbconvert_exporter": "python",
   "pygments_lexer": "ipython3",
   "version": "3.12.6"
  }
 },
 "nbformat": 4,
 "nbformat_minor": 5
}
