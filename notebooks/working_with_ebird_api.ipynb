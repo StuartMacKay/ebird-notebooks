{
 "cells": [
  {
   "cell_type": "code",
   "execution_count": 1,
   "id": "0b1a34e0-8554-4510-93e1-135f5a5a8335",
   "metadata": {
    "ExecuteTime": {
     "end_time": "2024-11-21T22:12:24.930481Z",
     "start_time": "2024-11-21T22:12:24.616569Z"
    }
   },
   "outputs": [],
   "source": [
    "\"\"\"\n",
    "Working with the eBird API.\n",
    "\n",
    "This notebook show you how to create a database and load observations\n",
    "from the eBird API v2.0.\n",
    "\n",
    "You will need to sign up for a key to access the eBird API.\n",
    "https://ebird.org/api/keygen\n",
    "\n",
    "You will also need to copy the example file .env.example to .env,\n",
    "and add your API key.\n",
    "\"\"\"\n",
    "\n",
    "from sqlalchemy import create_engine\n",
    "\n",
    "from main import settings\n",
    "from main.db import models, loaders\n",
    "\n",
    "db_dir = settings.DATABASE_DIR\n",
    "db_name = \"api_checklists\"\n",
    "db_url = f\"sqlite+pysqlite:///{db_dir}/{db_name}.sqlite3\"\n",
    "\n",
    "# The key needed to access the API.\n",
    "api_key = settings.API_KEY\n",
    "# The regions for which to load observations for.\n",
    "regions = settings.API_REGIONS\n",
    "# The number of days to fetch checklists for.\n",
    "back = settings.API_PAST_DAYS"
   ]
  },
  {
   "cell_type": "code",
   "execution_count": null,
   "id": "bcc60d37d4fb488d",
   "metadata": {},
   "outputs": [],
   "source": [
    "# Create and initialize the database.\n",
    "engine = create_engine(db_url)\n",
    "models.Base.metadata.create_all(engine)\n",
    "# The eBird API returns only the species code, e.g. \"horlar1\", so\n",
    "# we need to populate the species table with the complete taxonomy.\n",
    "loader = loaders.APILoader(api_key, db_url)\n",
    "loader.load_taxonomy()"
   ]
  },
  {
   "cell_type": "code",
   "execution_count": 2,
   "id": "e513faef-f347-4b1a-99dc-746b504198db",
   "metadata": {
    "ExecuteTime": {
     "end_time": "2024-11-20T20:08:59.243676Z",
     "start_time": "2024-11-20T20:08:27.751244Z"
    }
   },
   "outputs": [
    {
     "name": "stdout",
     "output_type": "stream",
     "text": [
      "Fetching visits in PT-11\n",
      "Number of checklists to fetch: 200\n",
      "Fetching checklist S203105907 (2024-11-20)\n",
      "Fetching checklist S203105931 (2024-11-20)\n",
      "Fetching checklist S203106097 (2024-11-20)\n",
      "Fetching checklist S203101583 (2024-11-20)\n",
      "Fetching checklist S203104636 (2024-11-20)\n",
      "Fetching checklist S203091615 (2024-11-20)\n",
      "Fetching checklist S203083793 (2024-11-20)\n",
      "Fetching checklist S203086580 (2024-11-20)\n",
      "Fetching checklist S203078495 (2024-11-20)\n",
      "Fetching checklist S203075721 (2024-11-20)\n",
      "Fetching checklist S203071725 (2024-11-20)\n",
      "Fetching checklist S203069258 (2024-11-20)\n",
      "Fetching checklist S203067873 (2024-11-20)\n",
      "Fetching checklist S203066616 (2024-11-20)\n",
      "Fetching checklist S203065074 (2024-11-20)\n",
      "Fetching checklist S203067108 (2024-11-20)\n",
      "Fetching visits in PT-15\n",
      "Number of checklists to fetch: 200\n",
      "Fetching checklist S203104629 (2024-11-20)\n",
      "Fetching checklist S203103109 (2024-11-20)\n",
      "Fetching checklist S203108433 (2024-11-20)\n",
      "Fetching checklist S203091913 (2024-11-20)\n",
      "Fetching checklist S203108412 (2024-11-20)\n",
      "Fetching checklist S203091343 (2024-11-20)\n",
      "Fetching checklist S203086588 (2024-11-20)\n",
      "Fetching checklist S203081602 (2024-11-20)\n",
      "Fetching checklist S203079755 (2024-11-20)\n",
      "Fetching checklist S203108391 (2024-11-20)\n",
      "Fetching checklist S203075309 (2024-11-20)\n",
      "Fetching checklist S203105094 (2024-11-20)\n",
      "Fetching checklist S203105096 (2024-11-20)\n",
      "Fetching checklist S203070680 (2024-11-20)\n",
      "Fetching checklist S203109151 (2024-11-20)\n",
      "Fetching checklist S203068360 (2024-11-20)\n",
      "Fetching checklist S203108490 (2024-11-20)\n",
      "Fetching checklist S203067535 (2024-11-20)\n",
      "Fetching checklist S203108481 (2024-11-20)\n",
      "Fetching checklist S203065621 (2024-11-20)\n",
      "Fetching checklist S203062169 (2024-11-20)\n",
      "Fetching checklist S203051618 (2024-11-20)\n",
      "Successfully loaded API records\n",
      "441 records added\n",
      "0 records updated\n",
      "0 records unchanged\n",
      "441 records in total\n"
     ]
    }
   ],
   "source": [
    "# Load the observations from the eBird API.\n",
    "loader = loaders.APILoader(api_key, db_url)\n",
    "loader.load(regions, back)"
   ]
  },
  {
   "cell_type": "code",
   "execution_count": 3,
   "id": "b2fac6a86c35121d",
   "metadata": {
    "ExecuteTime": {
     "end_time": "2024-11-21T22:13:19.502008Z",
     "start_time": "2024-11-21T22:13:19.475868Z"
    }
   },
   "outputs": [],
   "source": [
    "# If you are running Linux or MacOS you can schedule the loading of\n",
    "# checklists from the eBird API using cron. Here we get cron to run\n",
    "# the load script at 9am, every day. Note: your crontab will be updated\n",
    "# every time you execute this cell.\n",
    "\n",
    "from crontab import CronTab\n",
    "from pathlib import Path\n",
    "\n",
    "python = Path(settings.ROOT_DIR, \".venv\", \"bin\", \"python\")\n",
    "script = Path(settings.ROOT_DIR, \"scripts\", \"load.py\")\n",
    "\n",
    "with CronTab(user=True) as cron:\n",
    "    job = cron.new(command=f\"%s %s\" % (python, script))\n",
    "    job.hour.on(9)"
   ]
  }
 ],
 "metadata": {
  "kernelspec": {
   "display_name": "Python 3 (ipykernel)",
   "language": "python",
   "name": "python3"
  },
  "language_info": {
   "codemirror_mode": {
    "name": "ipython",
    "version": 3
   },
   "file_extension": ".py",
   "mimetype": "text/x-python",
   "name": "python",
   "nbconvert_exporter": "python",
   "pygments_lexer": "ipython3",
   "version": "3.12.6"
  }
 },
 "nbformat": 4,
 "nbformat_minor": 5
}
