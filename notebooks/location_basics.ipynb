{
 "cells": [
  {
   "cell_type": "markdown",
   "id": "46d0710d-31f9-4039-8942-ad3de2eabcac",
   "metadata": {
    "ExecuteTime": {
     "end_time": "2025-04-08T05:55:00.690907Z",
     "start_time": "2025-04-08T05:55:00.639660Z"
    }
   },
   "source": [
    "# Locations\n",
    "\n",
    "Some basic statistics on Locations."
   ]
  },
  {
   "cell_type": "markdown",
   "id": "5c12d0c4-bfc8-4059-9b87-aefa4325efed",
   "metadata": {
    "ExecuteTime": {
     "end_time": "2025-04-11T06:54:44.624692Z",
     "start_time": "2025-04-11T06:54:44.388719Z"
    }
   },
   "source": [
    "## History\n",
    "\n",
    "2025-07-13 Initial version with statistics on location names"
   ]
  },
  {
   "cell_type": "code",
   "execution_count": null,
   "id": "5c9afda4-6dfa-49f4-b65c-35b44ac32142",
   "metadata": {},
   "outputs": [],
   "source": [
    "from django.db import connection\n",
    "from django.db.models.functions import Length\n",
    "from django.template.loader import render_to_string\n",
    "\n",
    "from IPython.display import display, HTML\n",
    "\n",
    "import matplotlib.pyplot as plt\n",
    "\n",
    "from ebird.api.data.models import Checklist, Location"
   ]
  },
  {
   "cell_type": "code",
   "execution_count": null,
   "id": "22929c76-bae4-44e2-86a5-e35c4e802d9c",
   "metadata": {},
   "outputs": [],
   "source": [
    "# Location type - private versus hotspots\n",
    "\n",
    "# Total number of locations\n",
    "total = Location.objects.all().count()\n",
    "# Total number of hotspots\n",
    "hotspots = Location.objects.filter(hotspot=True).count()\n",
    "# Total number of private/personal locations\n",
    "private = Location.objects.filter(hotspot=False).count()\n",
    "\n",
    "print(\"Total\", total)\n",
    "print(\"Hotspots\", hotspots)\n",
    "print(\"Private\", private)\n",
    "\n",
    "labels = 'Hotspots', 'Private'\n",
    "sizes = [hotspots, private]\n",
    "\n",
    "fig, ax = plt.subplots()\n",
    "ax.pie(sizes, labels=labels, autopct='%1.f%%');"
   ]
  },
  {
   "cell_type": "code",
   "execution_count": null,
   "id": "77ad402c-4017-461f-9806-c2b00302ba61",
   "metadata": {},
   "outputs": [],
   "source": [
    "# A breakdown of locations type by checklist protocol\n",
    "\n",
    "labels = [\n",
    "    \"Incidental (hotspot)\", \"Incidental (private)\", \n",
    "    \"Stationary (hotspot)\", \"Stationary (private)\", \n",
    "    \"Travelling (hotspot)\", \"Travelling (private)\"\n",
    "]\n",
    "\n",
    "values = [\n",
    "    Checklist.objects.filter(location__hotspot=True, protocol_code=\"P20\").distinct(\"location_id\").count(),\n",
    "    Checklist.objects.filter(location__hotspot=False, protocol_code=\"P20\").distinct(\"location_id\").count(),\n",
    "    Checklist.objects.filter(location__hotspot=True, protocol_code=\"P21\").distinct(\"location_id\").count(),\n",
    "    Checklist.objects.filter(location__hotspot=False, protocol_code=\"P21\").distinct(\"location_id\").count(),\n",
    "    Checklist.objects.filter(location__hotspot=True, protocol_code=\"P22\").distinct(\"location_id\").count(),\n",
    "    Checklist.objects.filter(location__hotspot=False, protocol_code=\"P22\").distinct(\"location_id\").count(),\n",
    "]\n",
    "\n",
    "for label, value in zip(labels, values):\n",
    "    print(\"{:22}: {}\".format(label, value))\n",
    "\n",
    "fig, ax = plt.subplots()\n",
    "ax.pie(values, labels=labels, autopct='%1.f%%');"
   ]
  },
  {
   "cell_type": "code",
   "execution_count": null,
   "id": "df6051d9-372f-48ce-a45f-8e675ffc6f4e",
   "metadata": {},
   "outputs": [],
   "source": [
    "# Find the twenty shortest names\n",
    "shortest = Location.objects.annotate(length=Length('original')).order_by(\"length\")[:20]\n",
    "\n",
    "table = render_to_string(\"location_basics/names-table.html\", {\"locations\": shortest})\n",
    "display(HTML(table))"
   ]
  },
  {
   "cell_type": "code",
   "execution_count": null,
   "id": "26fbe99c-3275-447a-bb2f-734071a7b937",
   "metadata": {},
   "outputs": [],
   "source": [
    "# Find the twenty longest names\n",
    "longest = Location.objects.annotate(length=Length('original')).order_by(\"-length\")[:20]\n",
    "\n",
    "table = render_to_string(\"location_basics/names-table.html\", {\"locations\": longest})\n",
    "display(HTML(table))"
   ]
  },
  {
   "cell_type": "code",
   "execution_count": null,
   "id": "24d3e60f-7fa8-471d-8a49-813e18d040e8",
   "metadata": {},
   "outputs": [],
   "source": [
    "# What is the distribution of the name lengths\n",
    "with connection.cursor() as cursor:\n",
    "    cursor.execute(\n",
    "        \"select count(*), ((length(original) - 1) / 5)::int as quantile from data_location group by quantile\"\n",
    "    )\n",
    "\n",
    "    result = sorted(cursor.fetchall(), key=lambda t: t[1])\n",
    "\n",
    "data: list[int] = []\n",
    "labels: list[str] = []\n",
    "\n",
    "for count, index in result:\n",
    "    start = index * 5 + 1\n",
    "    end = start + 4\n",
    "    data.append(count)\n",
    "    labels.append(end)\n",
    "\n",
    "fig, ax = plt.subplots()\n",
    "fig.set_figwidth(15)\n",
    "ax.bar(labels, data, width=4)\n",
    "ax.set_xlabel(\"Name length ranges, e.g. 1-5, 6-10, etc.\")\n",
    "ax.set_ylabel(\"Number of locations\")\n",
    "ax.set_title('Distribution of location name lengths')\n",
    "plt.show();"
   ]
  },
  {
   "cell_type": "code",
   "execution_count": null,
   "id": "f2e36ee2-d81c-4e0a-9472-a84b0b9e6f20",
   "metadata": {},
   "outputs": [],
   "source": [
    "# Name lengths as a pie chart.\n",
    "\n",
    "labels = [\"<20\", \"21-40\", \"41-60\", \"61-80\", \">80\"]\n",
    "\n",
    "values = [\n",
    "    Location.objects.annotate(length=Length('name')).filter(length__lte=20).count(),\n",
    "    Location.objects.annotate(length=Length('name')).filter(length__gt=20, length__lte=40).count(),\n",
    "    Location.objects.annotate(length=Length('name')).filter(length__gt=40, length__lte=60).count(),\n",
    "    Location.objects.annotate(length=Length('name')).filter(length__gt=60, length__lte=80).count(),\n",
    "    Location.objects.annotate(length=Length('name')).filter(length__gt=80).count()\n",
    "]\n",
    "\n",
    "for label, value in zip(labels, values):\n",
    "    print(\"{:>5}: {}\".format(label, value))\n",
    "\n",
    "fig, ax = plt.subplots()\n",
    "ax.pie(values, labels=labels, autopct='%1.f%%');"
   ]
  }
 ],
 "metadata": {
  "kernelspec": {
   "display_name": "Django Kernel",
   "language": "python",
   "name": "django_extensions"
  },
  "language_info": {
   "codemirror_mode": {
    "name": "ipython",
    "version": 3
   },
   "file_extension": ".py",
   "mimetype": "text/x-python",
   "name": "python",
   "nbconvert_exporter": "python",
   "pygments_lexer": "ipython3",
   "version": "3.12.6"
  }
 },
 "nbformat": 4,
 "nbformat_minor": 5
}
