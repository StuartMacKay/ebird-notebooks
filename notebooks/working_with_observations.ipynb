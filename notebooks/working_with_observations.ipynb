{
 "cells": [
  {
   "cell_type": "code",
   "execution_count": null,
   "id": "92facb8b-96e8-442d-9f14-94d55c801a36",
   "metadata": {
    "ExecuteTime": {
     "end_time": "2024-12-18T09:16:45.542201Z",
     "start_time": "2024-12-18T09:16:45.206452Z"
    }
   },
   "outputs": [],
   "source": [
    "\"\"\"\n",
    "Working with observations.\n",
    "\n",
    "This notebook show you how to fetch observations from the database.\n",
    "\n",
    "The records loaded from spreadsheet rows or returned from the eBird API\n",
    "are saved across five different database tables: Checklist, Location,\n",
    "Observer, Observation and Species, which saves a lot of space, but to\n",
    "load all the fields for an observation you need to join the tables back\n",
    "together. That's easy to do with SQLAlchemy, however eBird Notebooks\n",
    "also has a helper class, Observations, which implements the most commonly\n",
    "used database queries.\n",
    "\n",
    "Each row fetched contains five objects: Observation, Species, Checklist,\n",
    "Location, and Observer. You access the fields 'dot operator' used to access\n",
    "an object's methods or attributes. For example:\n",
    "\n",
    "    row.Observation.count\n",
    "    row.Species.common_name\n",
    "    row.Checklist.date\n",
    "    row.Location.state\n",
    "    row.Observer.name\n",
    "\n",
    "This notebook loads the checklists from a random country into a database\n",
    "stored in memory - so there's no special setup. The each cell shows you\n",
    "how to use the Observations class to fetch the records.\n",
    "\n",
    "For a full list of all the fields available, see the ebird.notebooks.models\n",
    "file in the 'src' directory of this project.\n",
    "\"\"\"\n",
    "\n",
    "import datetime as dt\n",
    "\n",
    "from faker import Faker\n",
    "from IPython.display import display, HTML\n",
    "from sqlalchemy import create_engine\n",
    "from sqlalchemy.orm import Session\n",
    "from sqlalchemy.pool import StaticPool\n",
    "\n",
    "from ebird.notebooks import models, settings, loaders\n",
    "from ebird.notebooks.readers import Observations\n",
    "\n",
    "# Get the key for accessing the eBird API.\n",
    "api_key = settings.API_KEY\n",
    "\n",
    "# Create the database for the notebook in memory.\n",
    "# Normally you just pass the connection string (URL). The other arguments\n",
    "# are only needed because the database is stored in memory, They are not\n",
    "# needed when accessing a file or database server.\n",
    "engine = create_engine(\"sqlite:///\", connect_args={'check_same_thread':False}, poolclass=StaticPool)"
   ]
  },
  {
   "cell_type": "code",
   "execution_count": null,
   "id": "d64acb21-08d4-4452-a6e6-ca0633d18ba3",
   "metadata": {
    "ExecuteTime": {
     "end_time": "2024-12-18T09:16:45.562233Z",
     "start_time": "2024-12-18T09:16:45.549714Z"
    }
   },
   "outputs": [],
   "source": [
    "# Create the database tables.\n",
    "models.Base.metadata.create_all(engine)"
   ]
  },
  {
   "cell_type": "code",
   "execution_count": null,
   "id": "7217ce3e-2520-4b53-a456-657246de63d9",
   "metadata": {
    "ExecuteTime": {
     "end_time": "2024-12-18T09:16:50.594215Z",
     "start_time": "2024-12-18T09:16:45.808227Z"
    }
   },
   "outputs": [],
   "source": [
    "# The eBird API returns only the species code, e.g. \"horlar1\", so\n",
    "# we need to populate the species table with the complete taxonomy.\n",
    "with Session(engine) as session:\n",
    "    loader = loaders.SpeciesLoader(api_key, session)\n",
    "    loader.load()"
   ]
  },
  {
   "cell_type": "code",
   "execution_count": null,
   "id": "0197b4a0-3c3e-4dd4-8e58-c6d9bb8fc593",
   "metadata": {
    "ExecuteTime": {
     "end_time": "2024-12-18T09:16:54.070407Z",
     "start_time": "2024-12-18T09:16:50.609212Z"
    }
   },
   "outputs": [],
   "source": [
    "# Select a country at random.\n",
    "country_code = Faker().country_code()\n",
    "\n",
    "# Load the 5 most recent checklists from the eBird API.\n",
    "with Session(engine) as session:\n",
    "    loader = loaders.APILoader(api_key, session)\n",
    "    loader.load(country_code, max_results=5)"
   ]
  },
  {
   "cell_type": "code",
   "execution_count": null,
   "id": "4b6dc613e0c8ea64",
   "metadata": {
    "ExecuteTime": {
     "end_time": "2024-12-18T09:16:54.095911Z",
     "start_time": "2024-12-18T09:16:54.082937Z"
    }
   },
   "outputs": [],
   "source": [
    "# Get the Location from the most recent Checklist to get some values\n",
    "# for the example code in the following cells.\n",
    "\n",
    "with Session(engine) as session:\n",
    "    latest = Observations(session).latest()\n",
    "\n",
    "# (Ab)use the walrus operator, so the code is compact.\n",
    "print(\"Country: \", country := latest.Location.country)\n",
    "print(\"Country code: \", country_code := latest.Location.country_code)\n",
    "print(\"State: \", state := latest.Location.state)\n",
    "print(\"State code: \", state_code := latest.Location.state_code)\n",
    "print(\"County: \", county := latest.Location.county)\n",
    "print(\"County code: \", county_code := latest.Location.county_code)\n",
    "\n",
    "# More checklists should have been submitted yesterday\n",
    "date = latest.Checklist.date - dt.timedelta(days=1)"
   ]
  },
  {
   "cell_type": "code",
   "execution_count": null,
   "id": "82b93023-c61a-4eca-97d1-114fad1dc9cf",
   "metadata": {
    "ExecuteTime": {
     "end_time": "2024-12-18T09:16:54.374403Z",
     "start_time": "2024-12-18T09:16:54.362553Z"
    }
   },
   "outputs": [],
   "source": [
    "# Display the observations in a table\n",
    "\n",
    "header_row = '''\n",
    "  <tr>\n",
    "    <th style=\"text-align: left\">Species</th>\n",
    "    <th style=\"text-align: right\">Count</th>\n",
    "    <th style=\"text-align: left\">Date</th>\n",
    "    <th style=\"text-align: left\">Location</th>\n",
    "  </tr>\n",
    "'''\n",
    "\n",
    "body_row = '''\n",
    "  <tr>\n",
    "    <td style=\"text-align: left\">{}</td>\n",
    "    <td style=\"text-align: right\">{}</td>\n",
    "    <td style=\"text-align: left\">{}</td>\n",
    "    <td style=\"text-align: left\">{}</td>\n",
    "  </tr>\n",
    "'''    \n",
    "\n",
    "def show_table(rows, limit=None):\n",
    "    if limit:\n",
    "        rows = list(rows)[:limit]\n",
    "\n",
    "    data = [\n",
    "        [\n",
    "            row.Species.common_name,\n",
    "            row.Observation.count or \"X\",\n",
    "            row.Checklist.date,\n",
    "            \"{}, {}, {}\".format(row.Location.name, row.Location.state, row.Location.country)\n",
    "        ] for row in rows\n",
    "    ]\n",
    "\n",
    "    body = [body_row.format(*row) for row in data]\n",
    "    table = \"<table><thead>{}</thead><tbody>{}</tbody></table>\".format(header_row, \"\".join(body))\n",
    "    \n",
    "    return display(HTML(table))"
   ]
  },
  {
   "cell_type": "code",
   "execution_count": null,
   "id": "d247824b-4855-4a28-9bdf-cb4121b71555",
   "metadata": {
    "ExecuteTime": {
     "end_time": "2024-12-18T09:16:54.450350Z",
     "start_time": "2024-12-18T09:16:54.422589Z"
    }
   },
   "outputs": [],
   "source": [
    "# Fetch every observation.\n",
    "with Session(engine) as session:\n",
    "    rows = Observations(session).fetch()\n",
    "    table = show_table(rows)\n",
    "\n",
    "table"
   ]
  },
  {
   "cell_type": "code",
   "execution_count": null,
   "id": "dbfe9d457ed83462",
   "metadata": {
    "ExecuteTime": {
     "end_time": "2024-12-18T09:16:54.512962Z",
     "start_time": "2024-12-18T09:16:54.494236Z"
    }
   },
   "outputs": [],
   "source": [
    "# Count the number of observations.\n",
    "with Session(engine) as session:\n",
    "    count = Observations(session).for_year(date.year).count()\n",
    "\n",
    "    print(\"Observations made in %d: \" % date.year, count)"
   ]
  },
  {
   "cell_type": "code",
   "execution_count": null,
   "id": "dddb868f753041f8",
   "metadata": {
    "ExecuteTime": {
     "end_time": "2024-12-18T09:16:54.561024Z",
     "start_time": "2024-12-18T09:16:54.553736Z"
    }
   },
   "outputs": [],
   "source": [
    "# Fetch the observations for a given country."
   ]
  },
  {
   "cell_type": "code",
   "execution_count": null,
   "id": "b63e968122909b75",
   "metadata": {
    "ExecuteTime": {
     "end_time": "2024-12-18T09:16:54.648079Z",
     "start_time": "2024-12-18T09:16:54.625736Z"
    }
   },
   "outputs": [],
   "source": [
    "# Using the name of the country.\n",
    "with Session(engine) as session:\n",
    "    rows = Observations(session).for_country(country).fetch()\n",
    "    table = show_table(rows, limit=10)\n",
    "\n",
    "table"
   ]
  },
  {
   "cell_type": "code",
   "execution_count": null,
   "id": "103dcb6f12f36f41",
   "metadata": {
    "ExecuteTime": {
     "end_time": "2024-12-18T09:16:54.706842Z",
     "start_time": "2024-12-18T09:16:54.690412Z"
    }
   },
   "outputs": [],
   "source": [
    "# Or using the country code.\n",
    "with Session(engine) as session:\n",
    "    rows = Observations(session).for_country(country_code).fetch()\n",
    "    table = show_table(rows, limit=10)\n",
    "\n",
    "table"
   ]
  },
  {
   "cell_type": "code",
   "execution_count": null,
   "id": "d62d4391b29b59cb",
   "metadata": {
    "ExecuteTime": {
     "end_time": "2024-12-18T09:16:54.777958Z",
     "start_time": "2024-12-18T09:16:54.770860Z"
    }
   },
   "outputs": [],
   "source": [
    "# Fetch the observations for a given state (subnational1 area)."
   ]
  },
  {
   "cell_type": "code",
   "execution_count": null,
   "id": "46a989c2c5742fc",
   "metadata": {
    "ExecuteTime": {
     "end_time": "2024-12-18T09:16:54.844156Z",
     "start_time": "2024-12-18T09:16:54.826862Z"
    }
   },
   "outputs": [],
   "source": [
    "# Using the name of the state.\n",
    "with Session(engine) as session:\n",
    "    rows = Observations(session).for_state(state).fetch()\n",
    "    table = show_table(rows, limit=10)\n",
    "\n",
    "table"
   ]
  },
  {
   "cell_type": "code",
   "execution_count": null,
   "id": "e4f920dfd1f0143f",
   "metadata": {
    "ExecuteTime": {
     "end_time": "2024-12-18T09:16:54.923085Z",
     "start_time": "2024-12-18T09:16:54.906990Z"
    }
   },
   "outputs": [],
   "source": [
    "# Or using the code for the state.\n",
    "with Session(engine) as session:\n",
    "    rows = Observations(session).for_state(state_code).fetch()\n",
    "    table = show_table(rows, limit=10)\n",
    "\n",
    "table"
   ]
  },
  {
   "cell_type": "code",
   "execution_count": null,
   "id": "8cda8ca12ff8b283",
   "metadata": {
    "ExecuteTime": {
     "end_time": "2024-12-18T09:16:54.977505Z",
     "start_time": "2024-12-18T09:16:54.973710Z"
    }
   },
   "outputs": [],
   "source": [
    "# Fetch the observations for a given region.\n",
    "# This is just an alias for fetching checklists by state."
   ]
  },
  {
   "cell_type": "code",
   "execution_count": null,
   "id": "2f5c7291282f593f",
   "metadata": {
    "ExecuteTime": {
     "end_time": "2024-12-18T09:16:55.046550Z",
     "start_time": "2024-12-18T09:16:55.033784Z"
    }
   },
   "outputs": [],
   "source": [
    "# Using the name of the region\n",
    "with Session(engine) as session:\n",
    "    rows = Observations(session).for_region(state).fetch()\n",
    "    table = show_table(rows, limit=10)\n",
    "\n",
    "table"
   ]
  },
  {
   "cell_type": "code",
   "execution_count": null,
   "id": "1deccdf725ed6abf",
   "metadata": {
    "ExecuteTime": {
     "end_time": "2024-12-18T09:16:55.115572Z",
     "start_time": "2024-12-18T09:16:55.101533Z"
    }
   },
   "outputs": [],
   "source": [
    "# Or using the code for the region.\n",
    "with Session(engine) as session:\n",
    "    rows = Observations(session).for_region(state_code).fetch()\n",
    "    table = show_table(rows, limit=10)\n",
    "\n",
    "table"
   ]
  },
  {
   "cell_type": "code",
   "execution_count": null,
   "id": "a424e2203a374b7a",
   "metadata": {
    "ExecuteTime": {
     "end_time": "2024-12-18T09:16:55.159355Z",
     "start_time": "2024-12-18T09:16:55.155373Z"
    }
   },
   "outputs": [],
   "source": [
    "# Fetch the observations for a given county."
   ]
  },
  {
   "cell_type": "code",
   "execution_count": null,
   "id": "e36e0c3cf2f485da",
   "metadata": {
    "ExecuteTime": {
     "end_time": "2024-12-18T09:16:55.240410Z",
     "start_time": "2024-12-18T09:16:55.225186Z"
    }
   },
   "outputs": [],
   "source": [
    "# Using the name of the county\n",
    "with Session(engine) as session:\n",
    "    rows = Observations(session).for_county(county).fetch()\n",
    "    table = show_table(rows, limit=10)\n",
    "\n",
    "table"
   ]
  },
  {
   "cell_type": "code",
   "execution_count": null,
   "id": "beda56ab4b03a741",
   "metadata": {
    "ExecuteTime": {
     "end_time": "2024-12-18T09:16:55.317204Z",
     "start_time": "2024-12-18T09:16:55.298807Z"
    }
   },
   "outputs": [],
   "source": [
    "# Or using the code for the county.\n",
    "with Session(engine) as session:\n",
    "    rows = Observations(session).for_county(county_code).fetch()\n",
    "    table = show_table(rows, limit=10)\n",
    "\n",
    "table"
   ]
  },
  {
   "cell_type": "code",
   "execution_count": null,
   "id": "622c477eaf8bd039",
   "metadata": {
    "ExecuteTime": {
     "end_time": "2024-12-18T09:16:55.373525Z",
     "start_time": "2024-12-18T09:16:55.355375Z"
    }
   },
   "outputs": [],
   "source": [
    "# Fetch the observations for a given year.\n",
    "with Session(engine) as session:\n",
    "    rows = Observations(session).for_year(date.year).fetch()\n",
    "    table = show_table(rows, limit=10)\n",
    "\n",
    "table"
   ]
  },
  {
   "cell_type": "code",
   "execution_count": null,
   "id": "2c369b55f0525aa6",
   "metadata": {
    "ExecuteTime": {
     "end_time": "2024-12-18T09:16:55.463901Z",
     "start_time": "2024-12-18T09:16:55.450987Z"
    }
   },
   "outputs": [],
   "source": [
    "# Fetch the observations for a given month.\n",
    "with Session(engine) as session:\n",
    "    rows = Observations(session).for_month(date.year, date.month).fetch()\n",
    "    table = show_table(rows, limit=10)\n",
    "\n",
    "table"
   ]
  },
  {
   "cell_type": "code",
   "execution_count": null,
   "id": "3aea5d71928d655f",
   "metadata": {
    "ExecuteTime": {
     "end_time": "2024-12-18T09:16:55.532851Z",
     "start_time": "2024-12-18T09:16:55.514131Z"
    }
   },
   "outputs": [],
   "source": [
    "# Fetch the observations for a given day.\n",
    "with Session(engine) as session:\n",
    "    rows = Observations(session).for_day(date.year, date.month, date.day).fetch()\n",
    "    table = show_table(rows, limit=10)\n",
    "\n",
    "table"
   ]
  },
  {
   "cell_type": "code",
   "execution_count": null,
   "id": "1559eee896abcdc3",
   "metadata": {
    "ExecuteTime": {
     "end_time": "2024-12-18T09:16:55.620217Z",
     "start_time": "2024-12-18T09:16:55.603574Z"
    }
   },
   "outputs": [],
   "source": [
    "# Fetch the observations for a given date.\n",
    "with Session(engine) as session:\n",
    "    rows = Observations(session).for_date(date).fetch()\n",
    "    table = show_table(rows, limit=10)\n",
    "\n",
    "table"
   ]
  }
 ],
 "metadata": {
  "kernelspec": {
   "display_name": "Python 3 (ipykernel)",
   "language": "python",
   "name": "python3"
  },
  "language_info": {
   "codemirror_mode": {
    "name": "ipython",
    "version": 3
   },
   "file_extension": ".py",
   "mimetype": "text/x-python",
   "name": "python",
   "nbconvert_exporter": "python",
   "pygments_lexer": "ipython3",
   "version": "3.12.6"
  }
 },
 "nbformat": 4,
 "nbformat_minor": 5
}
