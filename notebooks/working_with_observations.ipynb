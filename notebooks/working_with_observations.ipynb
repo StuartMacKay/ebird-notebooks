{
 "cells": [
  {
   "cell_type": "code",
   "execution_count": null,
   "id": "92facb8b-96e8-442d-9f14-94d55c801a36",
   "metadata": {},
   "outputs": [],
   "source": [
    "\"\"\"\n",
    "Working with observations.\n",
    "\n",
    "This notebook show you how to fetch observations from the database.\n",
    "\n",
    "The records loaded from spreadsheet rows or returned from the eBird API\n",
    "are saved across five different models: Checklist, Location, Observer,\n",
    "Observation and Species, which saves a lot of space. However, that means\n",
    "you have to join the records from each table together when processing\n",
    "Checklists or Observations. That's easy to do with SQLAlchemy, but eBird\n",
    "notebooks also provides a helper class, ObservationQuery, which implements\n",
    "the most common queries when fetching Observations.\n",
    "\"\"\"\n",
    "\n",
    "import datetime as dt\n",
    "\n",
    "from sqlalchemy import create_engine, select\n",
    "from sqlalchemy.orm import Session\n",
    "\n",
    "from ebird.notebooks import settings\n",
    "from ebird.notebooks.loaders import APILoader\n",
    "from ebird.notebooks.models import Checklist, Location\n",
    "from ebird.notebooks.queries import ObservationQuery  # noqa : E402\n",
    "\n",
    "api_key = settings.API_KEY\n",
    "db_url = settings.API_DB_URL\n",
    "engine = create_engine(db_url)\n",
    "\n",
    "# Convenience function for displaying the checklists fetched.\n",
    "\n",
    "# Each row contains three objects, the Checklist, the checklist's Location,\n",
    "# and the Observer who submitted the checklist. To access each attribute, use\n",
    "# the model name and attribute name. See ebird.notebooks.models for the list\n",
    "# of models and attributes. Checklists are returned, sorted by checklist date\n",
    "# and time, oldest first.\n",
    "#\n",
    "# For brevity and performance, the number of checklists shown is limited to 10.\n",
    "def show_rows(rows):\n",
    "    for idx, row in enumerate(rows):\n",
    "        print(row.Observation.count, row.Species.common_name, row.Checklist.date, row.Checklist.time, row.Location.name)\n",
    "        if idx == 10: break"
   ]
  },
  {
   "cell_type": "code",
   "execution_count": null,
   "id": "f7f8540c403cc4b9",
   "metadata": {},
   "outputs": [],
   "source": [
    "# Load the observations from the eBird API.\n",
    "loader = APILoader(api_key, db_url)\n",
    "today = dt.date.today()\n",
    "\n",
    "for region in settings.API_REGIONS:\n",
    "    loader.load(region, today)"
   ]
  },
  {
   "cell_type": "code",
   "execution_count": null,
   "id": "4b6dc613e0c8ea64",
   "metadata": {},
   "outputs": [],
   "source": [
    "# Get the Location from the most recent Checklist to get some values\n",
    "# for the example code in the following cells.\n",
    "\n",
    "with Session(engine) as session:\n",
    "    row = session.execute(select(Checklist, Location).join(Location).order_by(Checklist.identifier.desc())).first()\n",
    "\n",
    "country = row.Location.country\n",
    "country_code = row.Location.country_code\n",
    "state = row.Location.state\n",
    "state_code = row.Location.state_code\n",
    "county = row.Location.county\n",
    "county_code = row.Location.county_code\n",
    "\n",
    "print(\"Country: \", country)\n",
    "print(\"Country code: \", country_code)\n",
    "print(\"State: \", state)\n",
    "print(\"State code: \", state_code)\n",
    "print(\"County: \", county)\n",
    "print(\"County code: \", county_code)"
   ]
  },
  {
   "cell_type": "code",
   "execution_count": null,
   "id": "ad318bea4279d406",
   "metadata": {},
   "outputs": [],
   "source": [
    "# Fetch every checklist.\n",
    "with Session(engine) as session:\n",
    "    rows = ObservationQuery(session).fetch()\n",
    "    show_rows(rows)"
   ]
  },
  {
   "cell_type": "code",
   "execution_count": null,
   "id": "dbfe9d457ed83462",
   "metadata": {},
   "outputs": [],
   "source": [
    "# Count the number of checklists.\n",
    "with Session(engine) as session:\n",
    "    year = today.year\n",
    "    count = ObservationQuery(session).for_year(year).count()\n",
    "    print(\"Checklists submitted in %d: \" % year, count)"
   ]
  },
  {
   "cell_type": "code",
   "execution_count": null,
   "id": "dddb868f753041f8",
   "metadata": {},
   "outputs": [],
   "source": [
    "# Fetch the checklists for a given country."
   ]
  },
  {
   "cell_type": "code",
   "execution_count": null,
   "id": "b63e968122909b75",
   "metadata": {},
   "outputs": [],
   "source": [
    "# Using the name of the country.\n",
    "with Session(engine) as session:\n",
    "    rows = ObservationQuery(session).for_country(country).fetch()\n",
    "    show_rows(rows)"
   ]
  },
  {
   "cell_type": "code",
   "execution_count": null,
   "id": "103dcb6f12f36f41",
   "metadata": {},
   "outputs": [],
   "source": [
    "# Or using the country code.\n",
    "with Session(engine) as session:\n",
    "    rows = ObservationQuery(session).for_country(country_code).fetch()\n",
    "    show_rows(rows)"
   ]
  },
  {
   "cell_type": "code",
   "execution_count": null,
   "id": "d62d4391b29b59cb",
   "metadata": {},
   "outputs": [],
   "source": [
    "# Fetch the checklists for a given state (subnational1 area)."
   ]
  },
  {
   "cell_type": "code",
   "execution_count": null,
   "id": "46a989c2c5742fc",
   "metadata": {},
   "outputs": [],
   "source": [
    "# Using the name of the state.\n",
    "with Session(engine) as session:\n",
    "    rows = ObservationQuery(session).for_state(state).fetch()\n",
    "    show_rows(rows)"
   ]
  },
  {
   "cell_type": "code",
   "execution_count": null,
   "id": "e4f920dfd1f0143f",
   "metadata": {},
   "outputs": [],
   "source": [
    "# Or using the code for the state.\n",
    "with Session(engine) as session:\n",
    "    rows = ObservationQuery(session).for_state(state_code).fetch()\n",
    "    show_rows(rows)"
   ]
  },
  {
   "cell_type": "code",
   "execution_count": null,
   "id": "8cda8ca12ff8b283",
   "metadata": {},
   "outputs": [],
   "source": [
    "# Fetch the checklists for a given region.\n",
    "# This is just an alias for fetching checklists by state."
   ]
  },
  {
   "cell_type": "code",
   "execution_count": null,
   "id": "2f5c7291282f593f",
   "metadata": {},
   "outputs": [],
   "source": [
    "# Using the name of the region\n",
    "with Session(engine) as session:\n",
    "    rows = ObservationQuery(session).for_region(state).fetch()\n",
    "    show_rows(rows)"
   ]
  },
  {
   "cell_type": "code",
   "execution_count": null,
   "id": "1deccdf725ed6abf",
   "metadata": {},
   "outputs": [],
   "source": [
    "# Or using the code for the region.\n",
    "with Session(engine) as session:\n",
    "    rows = ObservationQuery(session).for_region(state_code).fetch()\n",
    "    show_rows(rows)"
   ]
  },
  {
   "cell_type": "code",
   "execution_count": null,
   "id": "a424e2203a374b7a",
   "metadata": {},
   "outputs": [],
   "source": [
    "# Fetch the checklists for a given county."
   ]
  },
  {
   "cell_type": "code",
   "execution_count": null,
   "id": "e36e0c3cf2f485da",
   "metadata": {},
   "outputs": [],
   "source": [
    "# Using the name of the county\n",
    "with Session(engine) as session:\n",
    "    rows = ObservationQuery(session).for_county(county).fetch()\n",
    "    show_rows(rows)"
   ]
  },
  {
   "cell_type": "code",
   "execution_count": null,
   "id": "beda56ab4b03a741",
   "metadata": {},
   "outputs": [],
   "source": [
    "# Or using the code for the county.\n",
    "with Session(engine) as session:\n",
    "    rows = ObservationQuery(session).for_county(county_code).fetch()\n",
    "    show_rows(rows)"
   ]
  },
  {
   "cell_type": "code",
   "execution_count": null,
   "id": "622c477eaf8bd039",
   "metadata": {},
   "outputs": [],
   "source": [
    "# Fetch the checklists for a given year.\n",
    "with Session(engine) as session:\n",
    "    year = today.year\n",
    "    rows = ObservationQuery(session).for_year(year).fetch()\n",
    "    show_rows(rows)"
   ]
  },
  {
   "cell_type": "code",
   "execution_count": null,
   "id": "2c369b55f0525aa6",
   "metadata": {},
   "outputs": [],
   "source": [
    "# Fetch the checklists for a given month.\n",
    "with Session(engine) as session:\n",
    "    rows = ObservationQuery(session).for_month(today.year, today.month).fetch()\n",
    "    show_rows(rows)"
   ]
  },
  {
   "cell_type": "code",
   "execution_count": null,
   "id": "3aea5d71928d655f",
   "metadata": {},
   "outputs": [],
   "source": [
    "# Fetch the checklists for a given day.\n",
    "with Session(engine) as session:\n",
    "    rows = ObservationQuery(session).for_day(today.year, today.month, today.day).fetch()\n",
    "    show_rows(rows)"
   ]
  },
  {
   "cell_type": "code",
   "execution_count": null,
   "id": "1559eee896abcdc3",
   "metadata": {},
   "outputs": [],
   "source": [
    "# Fetch the checklists for a given date.\n",
    "with Session(engine) as session:\n",
    "    rows = ObservationQuery(session).for_date(today).fetch()\n",
    "    show_rows(rows)"
   ]
  }
 ],
 "metadata": {
  "kernelspec": {
   "display_name": "Python 3 (ipykernel)",
   "language": "python",
   "name": "python3"
  },
  "language_info": {
   "codemirror_mode": {
    "name": "ipython",
    "version": 3
   },
   "file_extension": ".py",
   "mimetype": "text/x-python",
   "name": "python",
   "nbconvert_exporter": "python",
   "pygments_lexer": "ipython3",
   "version": "3.12.6"
  }
 },
 "nbformat": 4,
 "nbformat_minor": 5
}
